{
  "nbformat": 4,
  "nbformat_minor": 0,
  "metadata": {
    "colab": {
      "name": "Untitled5.ipynb",
      "provenance": [],
      "authorship_tag": "ABX9TyOo+pdTp7KVDN7wsfH1deDT",
      "include_colab_link": true
    },
    "kernelspec": {
      "name": "python3",
      "display_name": "Python 3"
    },
    "language_info": {
      "name": "python"
    }
  },
  "cells": [
    {
      "cell_type": "markdown",
      "metadata": {
        "id": "view-in-github",
        "colab_type": "text"
      },
      "source": [
        "<a href=\"https://colab.research.google.com/github/Rizkhan2422/Assignment4_Q03/blob/main/Untitled5.ipynb\" target=\"_parent\"><img src=\"https://colab.research.google.com/assets/colab-badge.svg\" alt=\"Open In Colab\"/></a>"
      ]
    },
    {
      "cell_type": "code",
      "metadata": {
        "colab": {
          "base_uri": "https://localhost:8080/",
          "height": 904
        },
        "id": "zYlJPyGgbQ68",
        "outputId": "800322c7-a504-49b8-f040-02628c59dcc2"
      },
      "source": [
        "import tensorflow as tf\n",
        "from tensorflow import keras\n",
        "import numpy as np\n",
        "import matplotlib.pyplot as plt\n",
        "(x_train, y_train), (x_test, y_test) = keras.datasets.cifar10.load_data()\n",
        "print('x_train:', x_train.shape)\n",
        "K = len(np.unique(y_train)) # Classes\n",
        "Ntr = x_train.shape[0]\n",
        "Nte = x_test.shape[0]\n",
        "Din = 3072 # CIFAR10\n",
        "# Din = 784 # MINIST\n",
        "# Normalize pixel values\n",
        "# x_train, x_test = x_train / 255.0, x_test / 255.0\n",
        "mean_image = np.mean(x_train, axis=0)\n",
        "x_train = x_train - mean_image\n",
        "x_test = x_test - mean_image\n",
        "y_train = tf.keras.utils.to_categorical(y_train, num_classes=K)\n",
        "y_test = tf.keras.utils.to_categorical(y_test, num_classes=K)\n",
        "x_train = np.reshape(x_train,(Ntr,Din))\n",
        "x_test = np.reshape(x_test,(Nte,Din))\n",
        "x_train = x_train.astype('float32')\n",
        "x_test = x_test.astype('float32')\n",
        "print('x_train:', x_train.shape)\n",
        "std=1e-6\n",
        "H=200\n",
        "w1 = std*np.random.randn(Din, H)\n",
        "w2 = std*np.random.randn(H, K)\n",
        "b1 = np.zeros(H)\n",
        "b2 = np.zeros(K)\n",
        "print(\"w1:\", w1.shape)\n",
        "print(\"b1:\", b1.shape)\n",
        "\n",
        "batch_size = 500\n",
        "  \n",
        "iterations =300\n",
        "lr =1.4e-2\n",
        "lr_decay=0.999\n",
        "reg =5e-6\n",
        "loss_history = []\n",
        "train_acc_history = []\n",
        "val_acc_history = []\n",
        "seed = 0\n",
        "\n",
        "for t in range(iterations):\n",
        "    rng = np.random.default_rng(seed=seed)\n",
        "    indices = np.arange(Ntr)\n",
        "    rng.shuffle(indices)\n",
        "    x_train_shuffle=x_train[indices]\n",
        "    y_train_shuffle=y_train[indices]\n",
        "\n",
        "    for batch_ind in range(Ntr//batch_size):\n",
        "\n",
        "        # Forward pass\n",
        "        x_tr=x_train_shuffle[(batch_ind*batch_size):(batch_ind+1)*batch_size]\n",
        "        y_tr=y_train_shuffle[(batch_ind*batch_size):(batch_ind+1)*batch_size]\n",
        "        h=1.0/(1.0 + np.exp(-np.matmul(x_tr,w1)-b1))\n",
        "        y_pre=np.matmul(h,w2) + b2\n",
        "        loss=(1/batch_size)*np.square(y_pre-y_tr).sum()  + reg*(np.sum(w1*w1)+np.sum(w2*w2))\n",
        "        loss_history.append(loss)\n",
        "        \n",
        "    \n",
        "        # Backward pass\n",
        "        dy_pre =(1/batch_size)*2.0*(y_pre-y_tr)\n",
        "        dw2= np.matmul(h.T,dy_pre) +reg*w2\n",
        "        db2=dy_pre.sum(axis=0)\n",
        "        dh=np.matmul(dy_pre,w2.T)\n",
        "        dw1= np.matmul(x_tr.T,dh*h*(1-h)) +reg*w1\n",
        "        db1=(dh*h*(1-h)).sum(axis=0)\n",
        "        w1-=lr*dw1\n",
        "        w2-=lr*dw2\n",
        "        b1-=lr*db1\n",
        "        b2-=lr*db2\n",
        "        lr*=lr_decay\n",
        "    seed+=1\n",
        "\n",
        "    h_s=1.0/(1.0 + np.exp(-np.matmul(x_train_shuffle,w1)-b1))\n",
        "    y_pre_s=np.matmul(h_s,w2) + b2\n",
        "    train_acc=1.0 -(1/Ntr)*np.count_nonzero((np.argmax(y_train_shuffle,axis=1) - np.argmax(y_pre_s,axis=1)))\n",
        "    train_acc_history.append(train_acc)\n",
        "    if t % 10==0:\n",
        "        print('iteration %d : loss %f : accuracy %f '% (t,loss,train_acc))\n",
        "\n",
        "\n",
        "plt.plot(loss_history)\n",
        "# Printing accuracies and displaying w as images\n",
        "h=1.0/(1.0 + np.exp(-np.matmul(x_train,w1)-b1))\n",
        "y_pre=np.matmul(h,w2) + b2\n",
        "train_acc= 1.0 - (1/Ntr)*np.count_nonzero((np.argmax(y_train,axis=1) - np.argmax(y_pre,axis=1)))\n",
        "print('Training accuracy : %f'% (train_acc))\n",
        "\n",
        "h_test=1.0/(1.0 + np.exp(-np.matmul(x_test,w1)-b1))\n",
        "y_test_pre=np.matmul(h_test,w2) + b2\n",
        "test_acc= 1.0 - (1/Nte)*np.count_nonzero((np.argmax(y_test,axis=1) - np.argmax(y_test_pre,axis=1)))\n",
        "print('Testing accuracy : %f'% (test_acc))\n",
        "\n"
      ],
      "execution_count": 2,
      "outputs": [
        {
          "output_type": "stream",
          "text": [
            "x_train: (50000, 32, 32, 3)\n",
            "x_train: (50000, 3072)\n",
            "w1: (3072, 200)\n",
            "b1: (200,)\n",
            "iteration 0 : loss 0.799754 : accuracy 0.366900 \n",
            "iteration 10 : loss 0.685162 : accuracy 0.545960 \n",
            "iteration 20 : loss 0.622907 : accuracy 0.616040 \n",
            "iteration 30 : loss 0.619704 : accuracy 0.647300 \n",
            "iteration 40 : loss 0.610684 : accuracy 0.658340 \n",
            "iteration 50 : loss 0.578556 : accuracy 0.661860 \n",
            "iteration 60 : loss 0.585587 : accuracy 0.663160 \n",
            "iteration 70 : loss 0.597535 : accuracy 0.663740 \n",
            "iteration 80 : loss 0.605855 : accuracy 0.663820 \n",
            "iteration 90 : loss 0.588707 : accuracy 0.663940 \n",
            "iteration 100 : loss 0.583945 : accuracy 0.663960 \n",
            "iteration 110 : loss 0.556292 : accuracy 0.663960 \n",
            "iteration 120 : loss 0.573266 : accuracy 0.663960 \n",
            "iteration 130 : loss 0.602251 : accuracy 0.663980 \n",
            "iteration 140 : loss 0.577878 : accuracy 0.663980 \n",
            "iteration 150 : loss 0.587320 : accuracy 0.663980 \n",
            "iteration 160 : loss 0.594141 : accuracy 0.663980 \n",
            "iteration 170 : loss 0.580959 : accuracy 0.663980 \n",
            "iteration 180 : loss 0.604240 : accuracy 0.663980 \n",
            "iteration 190 : loss 0.569662 : accuracy 0.663980 \n",
            "iteration 200 : loss 0.585999 : accuracy 0.663980 \n",
            "iteration 210 : loss 0.573856 : accuracy 0.663980 \n",
            "iteration 220 : loss 0.597878 : accuracy 0.663980 \n",
            "iteration 230 : loss 0.576981 : accuracy 0.663980 \n",
            "iteration 240 : loss 0.574167 : accuracy 0.663980 \n",
            "iteration 250 : loss 0.586627 : accuracy 0.663980 \n",
            "iteration 260 : loss 0.587186 : accuracy 0.663980 \n",
            "iteration 270 : loss 0.595866 : accuracy 0.663980 \n",
            "iteration 280 : loss 0.578472 : accuracy 0.663980 \n",
            "iteration 290 : loss 0.583749 : accuracy 0.663980 \n",
            "Training accuracy : 0.663980\n",
            "Testing accuracy : 0.465300\n"
          ],
          "name": "stdout"
        },
        {
          "output_type": "display_data",
          "data": {
            "image/png": "[encoded data removed]",
            "text/plain": [
              "<Figure size 432x288 with 1 Axes>"
            ]
          },
          "metadata": {
            "tags": [],
            "needs_background": "light"
          }
        }
      ]
    }
  ]
}